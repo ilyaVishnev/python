{
 "cells": [
  {
   "cell_type": "code",
   "execution_count": null,
   "id": "83dd030d",
   "metadata": {},
   "outputs": [],
   "source": [
    "# Статистическое сопоставление цены биткоина с ценами на нефть, драг металлы\n",
    "# и одним из основных индексов развития мировой экономики (S&P500)."
   ]
  },
  {
   "cell_type": "code",
   "execution_count": 2,
   "id": "15cc3e9a",
   "metadata": {},
   "outputs": [
    {
     "data": {
      "text/plain": [
       "WindowsPath('C:/Windows/System32')"
      ]
     },
     "execution_count": 2,
     "metadata": {},
     "output_type": "execute_result"
    }
   ],
   "source": [
    "import pathlib\n",
    "pathlib.Path().resolve()"
   ]
  },
  {
   "cell_type": "code",
   "execution_count": 16,
   "id": "a5d32021",
   "metadata": {},
   "outputs": [],
   "source": [
    "import pandas as pd\n",
    "import numpy as np\n",
    "from sklearn.model_selection import train_test_split"
   ]
  },
  {
   "cell_type": "code",
   "execution_count": 17,
   "id": "741a2db2",
   "metadata": {},
   "outputs": [
    {
     "data": {
      "text/html": [
       "<div>\n",
       "<style scoped>\n",
       "    .dataframe tbody tr th:only-of-type {\n",
       "        vertical-align: middle;\n",
       "    }\n",
       "\n",
       "    .dataframe tbody tr th {\n",
       "        vertical-align: top;\n",
       "    }\n",
       "\n",
       "    .dataframe thead th {\n",
       "        text-align: right;\n",
       "    }\n",
       "</style>\n",
       "<table border=\"1\" class=\"dataframe\">\n",
       "  <thead>\n",
       "    <tr style=\"text-align: right;\">\n",
       "      <th></th>\n",
       "      <th>Date</th>\n",
       "      <th>BITCOIN</th>\n",
       "      <th>Brent Oil</th>\n",
       "      <th>Crude Oil WTI</th>\n",
       "      <th>Gold</th>\n",
       "      <th>S&amp;P500</th>\n",
       "    </tr>\n",
       "  </thead>\n",
       "  <tbody>\n",
       "    <tr>\n",
       "      <th>0</th>\n",
       "      <td>2010-07-18</td>\n",
       "      <td>0.1</td>\n",
       "      <td>75.37</td>\n",
       "      <td>76.01</td>\n",
       "      <td>1188.0</td>\n",
       "      <td>1064.88</td>\n",
       "    </tr>\n",
       "    <tr>\n",
       "      <th>1</th>\n",
       "      <td>2010-07-19</td>\n",
       "      <td>0.1</td>\n",
       "      <td>75.62</td>\n",
       "      <td>76.54</td>\n",
       "      <td>1181.7</td>\n",
       "      <td>1071.25</td>\n",
       "    </tr>\n",
       "    <tr>\n",
       "      <th>2</th>\n",
       "      <td>2010-07-20</td>\n",
       "      <td>0.1</td>\n",
       "      <td>76.22</td>\n",
       "      <td>77.44</td>\n",
       "      <td>1191.5</td>\n",
       "      <td>1083.48</td>\n",
       "    </tr>\n",
       "    <tr>\n",
       "      <th>3</th>\n",
       "      <td>2010-07-21</td>\n",
       "      <td>0.1</td>\n",
       "      <td>75.37</td>\n",
       "      <td>76.56</td>\n",
       "      <td>1191.6</td>\n",
       "      <td>1069.59</td>\n",
       "    </tr>\n",
       "    <tr>\n",
       "      <th>4</th>\n",
       "      <td>2010-07-22</td>\n",
       "      <td>0.1</td>\n",
       "      <td>77.82</td>\n",
       "      <td>79.30</td>\n",
       "      <td>1195.5</td>\n",
       "      <td>1093.67</td>\n",
       "    </tr>\n",
       "    <tr>\n",
       "      <th>...</th>\n",
       "      <td>...</td>\n",
       "      <td>...</td>\n",
       "      <td>...</td>\n",
       "      <td>...</td>\n",
       "      <td>...</td>\n",
       "      <td>...</td>\n",
       "    </tr>\n",
       "    <tr>\n",
       "      <th>4349</th>\n",
       "      <td>2022-06-14</td>\n",
       "      <td>22157.3</td>\n",
       "      <td>121.17</td>\n",
       "      <td>118.93</td>\n",
       "      <td>1813.5</td>\n",
       "      <td>3735.48</td>\n",
       "    </tr>\n",
       "    <tr>\n",
       "      <th>4350</th>\n",
       "      <td>2022-06-15</td>\n",
       "      <td>22577.9</td>\n",
       "      <td>118.51</td>\n",
       "      <td>115.31</td>\n",
       "      <td>1819.6</td>\n",
       "      <td>3789.99</td>\n",
       "    </tr>\n",
       "    <tr>\n",
       "      <th>4351</th>\n",
       "      <td>2022-06-16</td>\n",
       "      <td>20386.6</td>\n",
       "      <td>119.81</td>\n",
       "      <td>117.59</td>\n",
       "      <td>1849.9</td>\n",
       "      <td>3666.77</td>\n",
       "    </tr>\n",
       "    <tr>\n",
       "      <th>4352</th>\n",
       "      <td>2022-06-17</td>\n",
       "      <td>20444.6</td>\n",
       "      <td>113.12</td>\n",
       "      <td>109.56</td>\n",
       "      <td>1840.6</td>\n",
       "      <td>3674.84</td>\n",
       "    </tr>\n",
       "    <tr>\n",
       "      <th>4353</th>\n",
       "      <td>2022-06-18</td>\n",
       "      <td>19117.8</td>\n",
       "      <td>113.12</td>\n",
       "      <td>109.56</td>\n",
       "      <td>1840.6</td>\n",
       "      <td>3674.84</td>\n",
       "    </tr>\n",
       "  </tbody>\n",
       "</table>\n",
       "<p>4354 rows × 6 columns</p>\n",
       "</div>"
      ],
      "text/plain": [
       "            Date  BITCOIN  Brent Oil  Crude Oil WTI    Gold   S&P500\n",
       "0     2010-07-18      0.1      75.37          76.01  1188.0  1064.88\n",
       "1     2010-07-19      0.1      75.62          76.54  1181.7  1071.25\n",
       "2     2010-07-20      0.1      76.22          77.44  1191.5  1083.48\n",
       "3     2010-07-21      0.1      75.37          76.56  1191.6  1069.59\n",
       "4     2010-07-22      0.1      77.82          79.30  1195.5  1093.67\n",
       "...          ...      ...        ...            ...     ...      ...\n",
       "4349  2022-06-14  22157.3     121.17         118.93  1813.5  3735.48\n",
       "4350  2022-06-15  22577.9     118.51         115.31  1819.6  3789.99\n",
       "4351  2022-06-16  20386.6     119.81         117.59  1849.9  3666.77\n",
       "4352  2022-06-17  20444.6     113.12         109.56  1840.6  3674.84\n",
       "4353  2022-06-18  19117.8     113.12         109.56  1840.6  3674.84\n",
       "\n",
       "[4354 rows x 6 columns]"
      ]
     },
     "execution_count": 17,
     "metadata": {},
     "output_type": "execute_result"
    }
   ],
   "source": [
    "df = pd.read_csv('SP500 oil gold bitcoin.csv', encoding='utf-8')\n",
    "df"
   ]
  },
  {
   "cell_type": "code",
   "execution_count": 18,
   "id": "cb055f7d",
   "metadata": {},
   "outputs": [],
   "source": [
    "# Brent Oil - нефть марки Brent\n",
    "# Crude Oil WTI - нефть марки WTI\n",
    "# Gold - цена за тройскую унцию\n",
    "# S&P500 - фондовый индекс, в корзину которого включено 505 акций компаний с самой большой капитализацией "
   ]
  },
  {
   "cell_type": "code",
   "execution_count": 20,
   "id": "4ec23d80",
   "metadata": {},
   "outputs": [],
   "source": [
    "factors, x_test, bitcoin, y_test = train_test_split(df[['Brent Oil','Crude Oil WTI','Gold','S&P500']], df['BITCOIN']\n",
    ", test_size=0.2)"
   ]
  },
  {
   "cell_type": "code",
   "execution_count": 21,
   "id": "0839c1c6",
   "metadata": {},
   "outputs": [
    {
     "data": {
      "text/plain": [
       "(3483, 4)"
      ]
     },
     "execution_count": 21,
     "metadata": {},
     "output_type": "execute_result"
    }
   ],
   "source": [
    "bitcoin=bitcoin.values.reshape(-1,1)\n",
    "factors=factors.values\n",
    "factors.shape"
   ]
  },
  {
   "cell_type": "code",
   "execution_count": 22,
   "id": "e6982442",
   "metadata": {},
   "outputs": [
    {
     "data": {
      "text/plain": [
       "3.2418567519256204e+32"
      ]
     },
     "execution_count": 22,
     "metadata": {},
     "output_type": "execute_result"
    }
   ],
   "source": [
    "ones = np.ones((factors.shape[0], 1))\n",
    "factors = np.hstack((ones, factors))\n",
    "\n",
    "XTX = factors.T.dot(factors)\n",
    "np.linalg.det(XTX)"
   ]
  },
  {
   "cell_type": "code",
   "execution_count": 23,
   "id": "9ccfc12a",
   "metadata": {},
   "outputs": [],
   "source": [
    "# Определитель не близок к нулю, поэтому можно записать аналитическое решение:"
   ]
  },
  {
   "cell_type": "code",
   "execution_count": 24,
   "id": "baa4ce32",
   "metadata": {},
   "outputs": [
    {
     "name": "stdout",
     "output_type": "stream",
     "text": [
      "[[-4.64835413e+04]\n",
      " [ 4.97958376e+01]\n",
      " [ 7.85678522e+01]\n",
      " [ 8.81709971e+00]\n",
      " [ 1.35516865e+01]]\n"
     ]
    }
   ],
   "source": [
    "XTX_inv = np.linalg.inv(XTX)\n",
    "\n",
    "b = XTX_inv.dot(factors.T).dot(bitcoin)\n",
    "\n",
    "print(b)"
   ]
  },
  {
   "cell_type": "code",
   "execution_count": null,
   "id": "364783d9",
   "metadata": {},
   "outputs": [],
   "source": [
    "# Итак, наша модель регрессии имеет вид:\n",
    "\n",
    "# y = -46483.5413 + 49.7958376*x_1 + 78.5678522*x_2 + 8.81709971*x_3 + 13.5516865*x_4,\n",
    "\n",
    "# где x_1 - Brent Oil, x_2 - Crude Oil WTI, x_3 - Gold, x_4 - S&P500"
   ]
  },
  {
   "cell_type": "code",
   "execution_count": 29,
   "id": "52a2ca0a",
   "metadata": {},
   "outputs": [],
   "source": [
    "bitcoin_pred = -46483.5413 + 49.7958376*x_test['Brent Oil'] + 78.5678522*x_test['Crude Oil WTI'] + 8.81709971*x_test['Gold'] + 13.5516865*x_test['S&P500']"
   ]
  },
  {
   "cell_type": "code",
   "execution_count": 30,
   "id": "1a0440a5",
   "metadata": {},
   "outputs": [
    {
     "data": {
      "text/plain": [
       "0.878094751299001"
      ]
     },
     "execution_count": 30,
     "metadata": {},
     "output_type": "execute_result"
    }
   ],
   "source": [
    "R1 = bitcoin_pred.var() / bitcoin.var()\n",
    "R1"
   ]
  },
  {
   "cell_type": "code",
   "execution_count": null,
   "id": "6445e684",
   "metadata": {},
   "outputs": [],
   "source": [
    "# Коэффициент детерминации, равный 0.878094751299001, означает, что 88% дисперсии переменной bitcoin учитывается \n",
    "# или объясняется моделью. Оставшиеся 12% обусловлены какими-то ещё факторами, которые модель не учла."
   ]
  },
  {
   "cell_type": "code",
   "execution_count": null,
   "id": "6e8ffd56",
   "metadata": {},
   "outputs": [],
   "source": [
    "# Оценка значимости уравнения линейной регрессии"
   ]
  },
  {
   "cell_type": "code",
   "execution_count": 33,
   "id": "1988d44b",
   "metadata": {},
   "outputs": [
    {
     "data": {
      "text/plain": [
       "6263.088705287429"
      ]
     },
     "execution_count": 33,
     "metadata": {},
     "output_type": "execute_result"
    }
   ],
   "source": [
    "k1 = 4\n",
    "k2 = 3483 - 4 -1\n",
    "\n",
    "T1 = (R1 / (1 - R1)) * (k2 / k1)\n",
    "T1"
   ]
  },
  {
   "cell_type": "code",
   "execution_count": 34,
   "id": "25a47c67",
   "metadata": {},
   "outputs": [
    {
     "data": {
      "text/plain": [
       "2.3744870374556784"
      ]
     },
     "execution_count": 34,
     "metadata": {},
     "output_type": "execute_result"
    }
   ],
   "source": [
    "from scipy import stats\n",
    "\n",
    "alpha = 0.05\n",
    "\n",
    "F_crit = stats.f.ppf(1 - alpha, k1, k2)\n",
    "F_crit"
   ]
  },
  {
   "cell_type": "code",
   "execution_count": 35,
   "id": "b6f9940a",
   "metadata": {},
   "outputs": [],
   "source": [
    "# Имеем T1 > F_crit, поэтому уравнение регрессии статистически значимо."
   ]
  },
  {
   "cell_type": "code",
   "execution_count": null,
   "id": "9ff48656",
   "metadata": {},
   "outputs": [],
   "source": []
  }
 ],
 "metadata": {
  "kernelspec": {
   "display_name": "Python 3 (ipykernel)",
   "language": "python",
   "name": "python3"
  },
  "language_info": {
   "codemirror_mode": {
    "name": "ipython",
    "version": 3
   },
   "file_extension": ".py",
   "mimetype": "text/x-python",
   "name": "python",
   "nbconvert_exporter": "python",
   "pygments_lexer": "ipython3",
   "version": "3.7.4"
  }
 },
 "nbformat": 4,
 "nbformat_minor": 5
}
